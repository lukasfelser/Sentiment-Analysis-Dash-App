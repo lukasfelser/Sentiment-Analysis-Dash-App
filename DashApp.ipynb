{
  "cells": [
    {
      "cell_type": "code",
      "source": [
        "!pip install jupyter_dash\n",
        "!pip install dash-bootstrap-components\n",
        "!pip install jupyter-dash\n",
        "\n",
        "import nltk\n",
        "nltk.download('vader_lexicon')\n",
        "from nltk.sentiment import SentimentIntensityAnalyzer\n",
        "import plotly.express as px\n",
        "from jupyter_dash import JupyterDash\n",
        "import dash_core_components as dcc\n",
        "import dash_bootstrap_components as dbc\n",
        "from dash import html\n",
        "\n",
        "\n",
        "import plotly.graph_objects as go\n",
        "\n",
        "import dash_html_components as html\n",
        "from dash.dependencies import Input, Output, State\n",
        "\n",
        "from IPython.display import display, HTML\n",
        "\n",
        "!pip install torch torchvision torchaudio\n"
      ],
      "metadata": {
        "id": "VbsEanhp478q"
      },
      "id": "VbsEanhp478q",
      "execution_count": null,
      "outputs": []
    },
    {
      "cell_type": "markdown",
      "source": [
        "# Setup RoBERTa"
      ],
      "metadata": {
        "id": "NqvlqBPnkaUA"
      },
      "id": "NqvlqBPnkaUA"
    },
    {
      "cell_type": "code",
      "source": [
        "!pip install transformers\n",
        "\n",
        "from transformers import AutoTokenizer\n",
        "from transformers import AutoModelForSequenceClassification\n",
        "from scipy.special import softmax"
      ],
      "metadata": {
        "id": "j9PiqiCpkgYY"
      },
      "id": "j9PiqiCpkgYY",
      "execution_count": null,
      "outputs": []
    },
    {
      "cell_type": "code",
      "source": [
        "MODEL = f\"cardiffnlp/twitter-roberta-base-sentiment\"\n",
        "tokenizer = AutoTokenizer.from_pretrained(MODEL)\n",
        "model = AutoModelForSequenceClassification.from_pretrained(MODEL)"
      ],
      "metadata": {
        "id": "XkCbp9mhkkMz"
      },
      "id": "XkCbp9mhkkMz",
      "execution_count": null,
      "outputs": []
    },
    {
      "cell_type": "code",
      "source": [
        "example = \"I think this is going to fail\"\n",
        "\n",
        "# Run for Roberta Model\n",
        "encoded_text = tokenizer(example, return_tensors='pt')\n",
        "output = model(**encoded_text)\n",
        "scores = output[0][0].detach().numpy()\n",
        "scores = softmax(scores)\n",
        "scores_dict = {\n",
        "    'NEGATIVE' : scores[0],\n",
        "    'NEUTRAL' : scores[1],\n",
        "    'POSITIVE' : scores[2]}\n",
        "print(scores_dict)"
      ],
      "metadata": {
        "id": "J_aek0k0knfU"
      },
      "id": "J_aek0k0knfU",
      "execution_count": null,
      "outputs": []
    },
    {
      "cell_type": "markdown",
      "source": [
        " works really well!"
      ],
      "metadata": {
        "id": "5-s8wuGYk4sV"
      },
      "id": "5-s8wuGYk4sV"
    },
    {
      "cell_type": "code",
      "source": [
        "def polarity_scores_roberta(example):\n",
        "    encoded_text = tokenizer(example, return_tensors='pt')\n",
        "    output = model(**encoded_text)\n",
        "    scores = output[0][0].detach().numpy()\n",
        "    scores = softmax(scores)\n",
        "    scores_dict = {\n",
        "        'NEGATIVE' : scores[0],\n",
        "        'NEUTRAL' : scores[1],\n",
        "        'POSITIVE' : scores[2]\n",
        "    }\n",
        "    return scores_dict"
      ],
      "metadata": {
        "id": "D0YpEgXukc_P"
      },
      "id": "D0YpEgXukc_P",
      "execution_count": null,
      "outputs": []
    },
    {
      "cell_type": "code",
      "source": [
        "scores_dict[\"NEGATIVE\"]"
      ],
      "metadata": {
        "id": "d9hnTE9fleJl"
      },
      "id": "d9hnTE9fleJl",
      "execution_count": null,
      "outputs": []
    },
    {
      "cell_type": "code",
      "source": [
        "def find_sentiment_scores(sentence):\n",
        "    sentiment = polarity_scores_roberta(sentence)\n",
        "    return scores_dict\n",
        "\n",
        "user_input = input(\"Enter a sentence: \")\n",
        "result = find_sentiment_scores(user_input)\n",
        "print(result)\n"
      ],
      "metadata": {
        "id": "w1-gqUjbk0Gi"
      },
      "id": "w1-gqUjbk0Gi",
      "execution_count": null,
      "outputs": []
    },
    {
      "cell_type": "code",
      "source": [
        "def analyze_sentiment(sentence):\n",
        "    text = find_sentiment_scores(sentence)\n",
        "\n",
        "    positive_percentage = text[\"POSITIVE\"] * 100\n",
        "    neutral_percentage = text[\"NEUTRAL\"] * 100\n",
        "    negative_percentage = text[\"NEGATIVE\"] * 100\n",
        "\n",
        "    sentiment_distribution = {\n",
        "        \"Positive\": positive_percentage,\n",
        "        \"Negative\": negative_percentage,\n",
        "        \"Neutral\": neutral_percentage\n",
        "    }\n",
        "\n",
        "    return sentiment_distribution\n",
        "\n",
        "\n",
        "analyze_sentiment(\"Hello World\")"
      ],
      "metadata": {
        "id": "o5Mvi9X5mTrT"
      },
      "id": "o5Mvi9X5mTrT",
      "execution_count": null,
      "outputs": []
    },
    {
      "cell_type": "markdown",
      "source": [
        "# The dash code"
      ],
      "metadata": {
        "id": "uysdl5hRk07M"
      },
      "id": "uysdl5hRk07M"
    },
    {
      "cell_type": "code",
      "execution_count": null,
      "id": "aaccb1b4",
      "metadata": {
        "colab": {
          "base_uri": "https://localhost:8080/",
          "height": 121
        },
        "id": "aaccb1b4",
        "outputId": "7cb48e4e-46fe-4913-9d26-e15b5d150498"
      },
      "outputs": [
        {
          "output_type": "stream",
          "name": "stdout",
          "text": [
            "Dash is running on http://127.0.0.1:8050/\n",
            "\n"
          ]
        },
        {
          "output_type": "stream",
          "name": "stderr",
          "text": [
            "INFO:dash.dash:Dash is running on http://127.0.0.1:8050/\n",
            "\n"
          ]
        },
        {
          "output_type": "stream",
          "name": "stdout",
          "text": [
            "Dash app running on:\n"
          ]
        },
        {
          "output_type": "display_data",
          "data": {
            "text/plain": [
              "<IPython.core.display.Javascript object>"
            ],
            "application/javascript": [
              "(async (port, path, text, element) => {\n",
              "    if (!google.colab.kernel.accessAllowed) {\n",
              "      return;\n",
              "    }\n",
              "    element.appendChild(document.createTextNode(''));\n",
              "    const url = await google.colab.kernel.proxyPort(port);\n",
              "    const anchor = document.createElement('a');\n",
              "    anchor.href = new URL(path, url).toString();\n",
              "    anchor.target = '_blank';\n",
              "    anchor.setAttribute('data-href', url + path);\n",
              "    anchor.textContent = text;\n",
              "    element.appendChild(anchor);\n",
              "  })(8050, \"/\", \"http://127.0.0.1:8050/\", window.element)"
            ]
          },
          "metadata": {}
        }
      ],
      "source": [
        "\n",
        "# Define the navbar component\n",
        "navbar = dbc.Navbar(\n",
        "    [\n",
        "        dbc.Col(html.Div(dbc.NavLink(\"Home\", href=\"#\", style={\"color\": \"red\"})), width={\"auto\": \"10rem\"}),\n",
        "        dbc.Col(html.Div(dbc.NavLink(\"More\", href=\"#\", style={\"color\": \"green\"})), width={\"auto\": \"10rem\"}),\n",
        "        dbc.Col(html.Div(dbc.NavLink(\"About Us\", href=\"#\", style={\"color\": \"blue\"})), width={\"auto\": \"10rem\"}),\n",
        "    ],\n",
        "    color=\"darkblue\",\n",
        "    className=\"navbar-custom\",\n",
        "    dark=True,\n",
        "    style={\"justify-content\": \"end\"},\n",
        ")\n",
        "\n",
        "\n",
        "\n",
        "# Create the Dash app\n",
        "app = JupyterDash(__name__, external_stylesheets=[dbc.themes.BOOTSTRAP])\n",
        "\n",
        "# Set up the app layout\n",
        "app.layout = html.Div(\n",
        "    children=[\n",
        "        navbar,  # include the navbar here\n",
        "        html.H1(\"Sentiment Analysis\"),\n",
        "        dcc.Textarea(id=\"input-text\", placeholder=\"Enter a sentence\"),\n",
        "        html.Button(\"Analyze\", id=\"analyze-button\", n_clicks=0),\n",
        "        html.Div(id=\"page-content\"),  # a container for the content to be updated based on user input\n",
        "        dcc.Graph(id=\"positive-pie-chart\"),\n",
        "        dcc.Graph(id=\"positive-bar-chart\"),\n",
        "        dcc.Graph(id=\"negative-pie-chart\"),\n",
        "        dcc.Graph(id=\"negative-bar-chart\"),\n",
        "        dcc.Graph(id=\"neutral-pie-chart\"),\n",
        "        dcc.Graph(id=\"neutral-bar-chart\"),\n",
        "    ],\n",
        ")\n",
        "\n",
        "\n",
        "@app.callback(\n",
        "    [\n",
        "        Output(\"page-content\", \"children\"), #this will be updated\n",
        "        Output(\"positive-pie-chart\", \"figure\"),\n",
        "        Output(\"positive-bar-chart\", \"figure\"),\n",
        "        Output(\"negative-pie-chart\", \"figure\"),\n",
        "        Output(\"negative-bar-chart\", \"figure\"),\n",
        "        Output(\"neutral-pie-chart\", \"figure\"),\n",
        "        Output(\"neutral-bar-chart\", \"figure\"),\n",
        "    ],\n",
        "    [\n",
        "        Input(\"analyze-button\", \"n_clicks\"), #will trigger the callback function when its value changes (i.e., when the button is clicked)\n",
        "    ],\n",
        "    State(\"input-text\", \"value\"),\n",
        ")\n",
        "def update_page_content(n_clicks, input_text):\n",
        "    if not input_text:\n",
        "        return \"\", {}, {}, {}, {}, {}, {}\n",
        "\n",
        "    example = input_text\n",
        "\n",
        "    # Run for Roberta Model\n",
        "    encoded_text = tokenizer(example, return_tensors='pt')\n",
        "    output = model(**encoded_text)\n",
        "    scores = output[0][0].detach().numpy()\n",
        "    scores = softmax(scores)\n",
        "    scores_dict = {\n",
        "        'NEGATIVE' : scores[0],\n",
        "        'NEUTRAL' : scores[1],\n",
        "        'POSITIVE' : scores[2]}\n",
        "\n",
        "    # get probability scores of the input text using RoBERTa\n",
        "    def polarity_scores_roberta(example):\n",
        "        encoded_text = tokenizer(example, return_tensors='pt')\n",
        "        output = model(**encoded_text)\n",
        "        scores = output[0][0].detach().numpy()\n",
        "        scores = softmax(scores)\n",
        "        scores_dict = {\n",
        "            'NEGATIVE' : scores[0],\n",
        "            'NEUTRAL' : scores[1],\n",
        "            'POSITIVE' : scores[2]\n",
        "        }\n",
        "        return scores_dict\n",
        "\n",
        "    # setup function for the analyzing\n",
        "    def find_sentiment_scores(sentence):\n",
        "        sentiment = polarity_scores_roberta(sentence)\n",
        "        return scores_dict\n",
        "\n",
        "\n",
        "    # finally analyze the sentiment\n",
        "    def analyze_sentiment(sentence):\n",
        "        text = find_sentiment_scores(sentence)\n",
        "\n",
        "        positive_percentage = text[\"POSITIVE\"] * 100\n",
        "        neutral_percentage = text[\"NEUTRAL\"] * 100\n",
        "        negative_percentage = text[\"NEGATIVE\"] * 100\n",
        "\n",
        "        sentiment_distribution = {\n",
        "            \"Positive\": positive_percentage,\n",
        "            \"Negative\": negative_percentage,\n",
        "            \"Neutral\": neutral_percentage\n",
        "        }\n",
        "\n",
        "        return sentiment_distribution\n",
        "\n",
        "\n",
        "    sentiment_distribution = analyze_sentiment(input_text)\n",
        "\n",
        "    main_sentiment = max(sentiment_distribution, key=sentiment_distribution.get)\n",
        "    main_sentiment_percentage = sentiment_distribution[main_sentiment]\n",
        "\n",
        "    page_content = html.Div(\n",
        "        children=[\n",
        "            html.H1(f\"{main_sentiment} Sentiment\"),\n",
        "            html.H3(\"Sentiment Distribution:\"),\n",
        "            html.Ul(\n",
        "                children=[\n",
        "                    html.Li(f\"{sentiment}: {percentage:.2f}%\")\n",
        "                    for sentiment, percentage in sentiment_distribution.items()\n",
        "                ]\n",
        "            )\n",
        "        ]\n",
        "    )\n",
        "\n",
        "    # Pie chart for sentiment distribution\n",
        "    pie_chart_data = [\n",
        "        {\"Sentiment\": sentiment, \"Percentage\": percentage}\n",
        "        for sentiment, percentage in sentiment_distribution.items()\n",
        "    ]\n",
        "    pie_chart = px.pie(pie_chart_data, values=\"Percentage\", names=\"Sentiment\", title=\"Sentiment Distribution\")\n",
        "\n",
        "    # Bar chart for sentiment distribution\n",
        "    bar_chart_data = {\"Sentiment\": list(sentiment_distribution.keys()), \"Percentage\": list(sentiment_distribution.values())}\n",
        "    bar_chart = px.bar(bar_chart_data, x=\"Sentiment\", y=\"Percentage\", title=\"Sentiment Distribution\")\n",
        "\n",
        "    return (\n",
        "        page_content,\n",
        "        pie_chart,\n",
        "        bar_chart,\n",
        "        {},\n",
        "        {},\n",
        "        {},\n",
        "        {},\n",
        "    )\n",
        "\n",
        "if __name__ == '__main__':\n",
        "    app.run_server(mode='external')\n"
      ]
    },
    {
      "cell_type": "code",
      "source": [],
      "metadata": {
        "id": "-hZrL5GFs6IF"
      },
      "id": "-hZrL5GFs6IF",
      "execution_count": null,
      "outputs": []
    },
    {
      "cell_type": "markdown",
      "source": [
        "# Actual code we're working with"
      ],
      "metadata": {
        "id": "5uSOjwgLLM_C"
      },
      "id": "5uSOjwgLLM_C"
    },
    {
      "cell_type": "code",
      "execution_count": null,
      "metadata": {
        "colab": {
          "base_uri": "https://localhost:8080/",
          "height": 121
        },
        "outputId": "83959631-c75a-4b4c-c888-f7bd5ac87b88",
        "id": "MbP-UJBzs6jk"
      },
      "outputs": [
        {
          "output_type": "stream",
          "name": "stdout",
          "text": [
            "Dash is running on http://127.0.0.1:8050/\n",
            "\n"
          ]
        },
        {
          "output_type": "stream",
          "name": "stderr",
          "text": [
            "INFO:dash.dash:Dash is running on http://127.0.0.1:8050/\n",
            "\n"
          ]
        },
        {
          "output_type": "stream",
          "name": "stdout",
          "text": [
            "Dash app running on:\n"
          ]
        },
        {
          "output_type": "display_data",
          "data": {
            "text/plain": [
              "<IPython.core.display.Javascript object>"
            ],
            "application/javascript": [
              "(async (port, path, text, element) => {\n",
              "    if (!google.colab.kernel.accessAllowed) {\n",
              "      return;\n",
              "    }\n",
              "    element.appendChild(document.createTextNode(''));\n",
              "    const url = await google.colab.kernel.proxyPort(port);\n",
              "    const anchor = document.createElement('a');\n",
              "    anchor.href = new URL(path, url).toString();\n",
              "    anchor.target = '_blank';\n",
              "    anchor.setAttribute('data-href', url + path);\n",
              "    anchor.textContent = text;\n",
              "    element.appendChild(anchor);\n",
              "  })(8050, \"/\", \"http://127.0.0.1:8050/\", window.element)"
            ]
          },
          "metadata": {}
        }
      ],
      "source": [
        "# Define the navbar component\n",
        "navbar = dbc.Navbar(\n",
        "    [\n",
        "        dbc.Nav(\n",
        "                        [\n",
        "                dbc.NavLink(\"T E X T M O O D\", href=\"#\", style={\"color\": \"#599FC7\"}),\n",
        "                dbc.NavLink(\"Online Sentiment Analyzer\", href=\"#\", style={\"color\": \"#599FC7\"}),\n",
        "                dbc.NavLink(\"About Us\", href=\"#\", style={\"color\": \"#599FC7\"}),\n",
        "            ],\n",
        "            className=\"ml-auto\",\n",
        "            navbar=True,\n",
        "        )\n",
        "\n",
        "    ],\n",
        "    color = \"black\",\n",
        "    className=\"navbar-custom\",\n",
        "    dark=True,\n",
        "    style={\"backgroundColor\": \"#585252\"},\n",
        "    )\n",
        "\n",
        "navbar.container_style = {\"justify-content\": \"space-between\"}  # Add this line to align entire navbar contents\n",
        "\n",
        "navbar.children[0].style = {\"display\": \"flex\", \"align-items\": \"center\"}  # Add this line to align NavLinks vertically\n",
        "\n",
        "navbar.children[0].children[0].style = {\"margin-right\": \"1rem\"}  # Add margin between NavLinks\n",
        "navbar.children[0].children[1].style = {\"margin-right\": \"1rem\"}\n",
        "navbar.children[0].children[2].style = {\"margin-right\": \"1rem\"}\n",
        "\n",
        "\n",
        "# Create the Dash app\n",
        "app = JupyterDash(__name__, external_stylesheets=[dbc.themes.BOOTSTRAP])\n",
        "\n",
        "\n",
        "# Set up the app layout\n",
        "app.layout = html.Div(\n",
        "    style={\n",
        "        'textAlign': 'center',\n",
        "        'border': '1px solid black',\n",
        "        'backgroundColor': '#4E6894'  # Set the background color to light gray\n",
        "\n",
        "    },\n",
        "    children=[\n",
        "        navbar,  # include the navbar here\n",
        "        html.H1(\"T E X T M O O D\"),\n",
        "        html.H3(\"Find out the sentiment behind any text!\"),\n",
        "        dcc.Textarea(id=\"input-text\", placeholder=\"Enter a sentence\"),\n",
        "        html.Button(\"Analyze\", id=\"analyze-button\", n_clicks=0),\n",
        "        html.Div(id=\"page-content\"),\n",
        "        html.Div(\n",
        "            className=\"bar-chart-container\",\n",
        "            children=[\n",
        "                dcc.Graph(id=\"positive-pie-chart\"),\n",
        "                dcc.Graph(id=\"positive-bar-chart\"),\n",
        "            ],\n",
        "            style={'width': '60%', 'margin': '0 auto'}  # Set width and center the container\n",
        "\n",
        "        )\n",
        "    ],\n",
        ")\n",
        "\n",
        "@app.callback(\n",
        "    [\n",
        "        Output(\"page-content\", \"children\"), #this will be updated\n",
        "        Output(\"positive-pie-chart\", \"figure\"),\n",
        "        Output(\"positive-bar-chart\", \"figure\"),\n",
        "    ],\n",
        "    [\n",
        "        Input(\"analyze-button\", \"n_clicks\"), #will trigger the callback function when its value changes (i.e., when the button is clicked)\n",
        "    ],\n",
        "    State(\"input-text\", \"value\"),\n",
        ")\n",
        "def update_page_content(n_clicks, input_text):\n",
        "    if input_text is None or input_text.strip() == \"\":\n",
        "        return \"\"\n",
        "\n",
        "    example = input_text\n",
        "\n",
        "    # Run for Roberta Model\n",
        "    encoded_text = tokenizer(example, return_tensors='pt')\n",
        "    output = model(**encoded_text)\n",
        "    scores = output[0][0].detach().numpy()\n",
        "    scores = softmax(scores)\n",
        "    scores_dict = {\n",
        "        'NEGATIVE' : scores[0],\n",
        "        'NEUTRAL' : scores[1],\n",
        "        'POSITIVE' : scores[2]}\n",
        "\n",
        "    # get probability scores of the input text using RoBERTa\n",
        "    def polarity_scores_roberta(example):\n",
        "        encoded_text = tokenizer(example, return_tensors='pt')\n",
        "        output = model(**encoded_text)\n",
        "        scores = output[0][0].detach().numpy()\n",
        "        scores = softmax(scores)\n",
        "        scores_dict = {\n",
        "            'NEGATIVE' : scores[0],\n",
        "            'NEUTRAL' : scores[1],\n",
        "            'POSITIVE' : scores[2]\n",
        "        }\n",
        "        return scores_dict\n",
        "\n",
        "    # setup function for the analyzing\n",
        "    def find_sentiment_scores(sentence):\n",
        "        sentiment = polarity_scores_roberta(sentence)\n",
        "        return scores_dict\n",
        "\n",
        "\n",
        "    # finally analyze the sentiment\n",
        "    def analyze_sentiment(sentence):\n",
        "        text = find_sentiment_scores(sentence)\n",
        "\n",
        "        positive_percentage = text[\"POSITIVE\"] * 100\n",
        "        neutral_percentage = text[\"NEUTRAL\"] * 100\n",
        "        negative_percentage = text[\"NEGATIVE\"] * 100\n",
        "\n",
        "        sentiment_distribution = {\n",
        "            \"Positive\": positive_percentage,\n",
        "            \"Negative\": negative_percentage,\n",
        "            \"Neutral\": neutral_percentage\n",
        "        }\n",
        "\n",
        "        return sentiment_distribution\n",
        "\n",
        "\n",
        "    sentiment_distribution = analyze_sentiment(input_text)\n",
        "\n",
        "    main_sentiment = max(sentiment_distribution, key=sentiment_distribution.get)\n",
        "    main_sentiment_percentage = sentiment_distribution[main_sentiment]\n",
        "\n",
        "    page_content = html.Div(\n",
        "        children=[\n",
        "            html.H1(f\"{main_sentiment} Sentiment\"),\n",
        "            html.H3(\"Sentiment Distribution:\"),\n",
        "            html.Ul(\n",
        "                children=[\n",
        "                    html.Li(f\"{sentiment}: {percentage:.2f}%\")\n",
        "                    for sentiment, percentage in sentiment_distribution.items()\n",
        "                ]\n",
        "            )\n",
        "        ]\n",
        "    )\n",
        "\n",
        "\n",
        "    # Pie chart for sentiment distribution\n",
        "    pie_chart_data = [\n",
        "        {\"Sentiment\": sentiment, \"Percentage\": percentage, \"Color\": color}\n",
        "        for sentiment, percentage, color in zip(sentiment_distribution.keys(), sentiment_distribution.values(), [\"35DD35\", \"B21C1C\", \"31AFD9\"])\n",
        "    ]\n",
        "\n",
        "    pie_chart = px.pie(pie_chart_data, values=\"Percentage\", names=\"Sentiment\", title=\"Distribution of positve, neutral and negative sentiment:\")\n",
        "    pie_chart.update_traces(marker=dict(colors=[data[\"Color\"] for data in pie_chart_data]))\n",
        "\n",
        "\n",
        "    # Bar chart for sentiment distribution\n",
        "    bar_chart_data = {\"Sentiment\": list(sentiment_distribution.keys()),\n",
        "                      \"Percentage\": list(sentiment_distribution.values()),\n",
        "                      \"Color\": [\"#35DD35\", \"#B21C1C\", \"#31AFD9\"]}\n",
        "\n",
        "    #bar_chart = px.bar(bar_chart_data, x=\"Sentiment\", y=\"Percentage\", title=\"Distribution of positve, neutral and negative sentiment:\")\n",
        "    bar_chart = go.Figure(data=[\n",
        "                go.Bar(\n",
        "                    x=bar_chart_data[\"Sentiment\"],\n",
        "                    y=bar_chart_data[\"Percentage\"],\n",
        "            marker=dict(color=bar_chart_data[\"Color\"]),\n",
        "        )\n",
        "    ])\n",
        "    bar_chart.update_layout(title=\"Distribution of positive, neutral, and negative sentiment\")\n",
        "\n",
        "\n",
        "\n",
        "\n",
        "    return (\n",
        "        page_content,\n",
        "        pie_chart,\n",
        "        bar_chart,\n",
        "    )\n",
        "\n",
        "\n",
        "if __name__ == '__main__':\n",
        "    app.run_server(mode='external')\n"
      ],
      "id": "MbP-UJBzs6jk"
    },
    {
      "cell_type": "markdown",
      "source": [
        "# Not needed anymore"
      ],
      "metadata": {
        "id": "WcdMXniR_7Zf"
      },
      "id": "WcdMXniR_7Zf"
    },
    {
      "cell_type": "code",
      "source": [
        "# Define the navbar component\n",
        "navbar = dbc.Navbar(\n",
        "    [\n",
        "        dbc.Nav(\n",
        "                        [\n",
        "                dbc.NavLink(\"T E X T M O O D\", href=\"#\", style={\"color\": \"#B21C1C\"}),\n",
        "                dbc.NavLink(\"Online Sentiment Analyzer\", href=\"#\", style={\"color\": \"#B21C1C\"}),\n",
        "                dbc.NavLink(\"About Us\", href=\"#\", style={\"color\": \"#B21C1C\"}),\n",
        "            ],\n",
        "            className=\"ml-auto\",\n",
        "            # navbar=True,\n",
        "        )\n",
        "\n",
        "    ],\n",
        "    color = \"black\",\n",
        "    className=\"navbar-custom\",\n",
        "    dark=True,\n",
        "    style={\"backgroundColor\": \"#D9D9D9\"},\n",
        "    )\n",
        "\n",
        "navbar.container_style = {\"justify-content\": \"space-between\"}  # Add this line to align the entire navbar contents\n",
        "\n",
        "navbar.children[0].style = {\"display\": \"flex\", \"align-items\": \"center\"}  # Add this line to align the NavLinks vertically\n",
        "\n",
        "navbar.children[0].children[0].style = {\"margin-right\": \"1rem\"}  # Add margin between NavLinks\n",
        "navbar.children[0].children[1].style = {\"margin-right\": \"1rem\"}\n",
        "navbar.children[0].children[2].style = {\"margin-right\": \"1rem\"}\n"
      ],
      "metadata": {
        "id": "EPc3KA8OCwSf"
      },
      "id": "EPc3KA8OCwSf",
      "execution_count": null,
      "outputs": []
    },
    {
      "cell_type": "code",
      "source": [
        "def analyze_sentiment(sentence):\n",
        "    sia = SentimentIntensityAnalyzer()\n",
        "    sentiment_scores = sia.polarity_scores(sentence)\n",
        "\n",
        "    positive_percentage = sentiment_scores[\"pos\"] * 100\n",
        "    negative_percentage = sentiment_scores[\"neg\"] * 100\n",
        "    neutral_percentage = sentiment_scores[\"neu\"] * 100\n",
        "\n",
        "    sentiment_distribution = {\n",
        "        \"Positive\": positive_percentage,\n",
        "        \"Negative\": negative_percentage,\n",
        "        \"Neutral\": neutral_percentage"
      ],
      "metadata": {
        "id": "WkmWcxKMl4le"
      },
      "id": "WkmWcxKMl4le",
      "execution_count": null,
      "outputs": []
    },
    {
      "cell_type": "code",
      "source": [
        "    # Pie chart for sentiment distribution\n",
        "    pie_chart_data = [\n",
        "        {\"Sentiment\": sentiment, \"Percentage\": percentage}\n",
        "        for sentiment, percentage in sentiment_distribution.items()\n",
        "    ]\n",
        "    pie_chart = px.pie(pie_chart_data, values=\"Percentage\", names=\"Sentiment\", title=\"Sentiment Distribution\")"
      ],
      "metadata": {
        "id": "5Cqkp63TsT0b"
      },
      "id": "5Cqkp63TsT0b",
      "execution_count": null,
      "outputs": []
    }
  ],
  "metadata": {
    "kernelspec": {
      "display_name": "Python 3 (ipykernel)",
      "language": "python",
      "name": "python3"
    },
    "language_info": {
      "codemirror_mode": {
        "name": "ipython",
        "version": 3
      },
      "file_extension": ".py",
      "mimetype": "text/x-python",
      "name": "python",
      "nbconvert_exporter": "python",
      "pygments_lexer": "ipython3",
      "version": "3.9.12"
    },
    "colab": {
      "provenance": [],
      "collapsed_sections": [
        "uysdl5hRk07M",
        "WcdMXniR_7Zf"
      ]
    }
  },
  "nbformat": 4,
  "nbformat_minor": 5
}